{
  "nbformat": 4,
  "nbformat_minor": 0,
  "metadata": {
    "colab": {
      "name": "YT Downloader",
      "provenance": [],
      "collapsed_sections": [],
      "machine_shape": "hm",
      "include_colab_link": true
    },
    "kernelspec": {
      "name": "python3",
      "display_name": "Python 3"
    },
    "accelerator": "GPU"
  },
  "cells": [
    {
      "cell_type": "markdown",
      "metadata": {
        "id": "view-in-github",
        "colab_type": "text"
      },
      "source": [
        "<a href=\"https://colab.research.google.com/github/tg-bomze/collection-of-notebooks/blob/master/YT_Downloader.ipynb\" target=\"_parent\"><img src=\"https://colab.research.google.com/assets/colab-badge.svg\" alt=\"Open In Colab\"/></a>"
      ]
    },
    {
      "cell_type": "code",
      "source": [
        "#@title <b><font color=\"red\" size=\"+3\">←</font><font color=\"black\" size=\"+3\"> YouTube Downloader by @Vlad_Pedro</font></b>\n",
        "!rm -rf /content/sample_data\n",
        "!apt-get install aria2 #\n",
        "try: import youtube_dl\n",
        "except:\n",
        "  !pip install youtube_dl\n",
        "  import youtube_dl\n",
        "\n",
        "import os\n",
        "import os.path\n",
        "from google.colab import files, drive\n",
        "from IPython.display import clear_output\n",
        "clear_output()\n",
        "\n",
        "source_url = '' #@param {type:\"string\"}\n",
        "save_to_drive = True #@param {type:\"boolean\"}\n",
        "\n",
        "if save_to_drive:\n",
        "  drive.mount('/content/drive')\n",
        "  clear_output()\n",
        "  %cd /content/drive/MyDrive/\n",
        "else:\n",
        "  %cd /content\n",
        "\n",
        "!youtube-dl $source_url --list-formats\n",
        "format_num = input('\\nEnter format number (First column): ')\n",
        "clear_output()\n",
        "\n",
        "format_type = format_num + '+bestaudio'\n",
        "!youtube-dl --external-downloader=aria2c --external-downloader-args '--min-split-size=1M --max-connection-per-server=16 --max-concurrent-downloads=16 --split=16' $source_url -f $format_num\n",
        "clear_output()\n",
        "\n",
        "if save_to_drive: print('File downloaded. Wait for it to appear in Google Drive (~ 1 min.)')\n",
        "else: \n",
        "  for i in os.listdir('/content'):\n",
        "    if os.path.isfile(i) and i != 'drive':\n",
        "      files.download(i)\n",
        "      print(f'File {i} downloaded.')\n",
        "      !rm -rf $i"
      ],
      "metadata": {
        "cellView": "form",
        "id": "01uSkHqaBaNw"
      },
      "execution_count": null,
      "outputs": []
    }
  ]
}