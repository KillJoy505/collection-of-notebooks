{
  "nbformat": 4,
  "nbformat_minor": 0,
  "metadata": {
    "colab": {
      "name": "YT Downloader",
      "provenance": [],
      "collapsed_sections": [],
      "machine_shape": "hm",
      "include_colab_link": true
    },
    "kernelspec": {
      "name": "python3",
      "display_name": "Python 3"
    },
    "accelerator": "GPU"
  },
  "cells": [
    {
      "cell_type": "markdown",
      "metadata": {
        "id": "view-in-github",
        "colab_type": "text"
      },
      "source": [
        "<a href=\"https://colab.research.google.com/github/tg-bomze/collection-of-notebooks/blob/master/YT_Downloader.ipynb\" target=\"_parent\"><img src=\"https://colab.research.google.com/assets/colab-badge.svg\" alt=\"Open In Colab\"/></a>"
      ]
    },
    {
      "cell_type": "code",
      "metadata": {
        "id": "4tIKfp7Jpmme",
        "cellView": "form"
      },
      "source": [
        "#@title <b><font color=\"red\" size=\"+3\">←</font><font color=\"black\" size=\"+3\"> YouTube Downloader</font></b>\n",
        "try: import youtube_dl\n",
        "except:\n",
        "  !rm -rf /content/sample_data\n",
        "  !pip install youtube_dl\n",
        "  import youtube_dl\n",
        "\n",
        "import os\n",
        "from google.colab import files, drive\n",
        "from IPython.display import clear_output\n",
        "clear_output()\n",
        "\n",
        "source_url = '' #@param {type:\"string\"}\n",
        "save_to_drive = True #@param {type:\"boolean\"}\n",
        "\n",
        "if save_to_drive:\n",
        "  drive.mount('/content/drive')\n",
        "  clear_output()\n",
        "  %cd /content/drive/MyDrive/\n",
        "\n",
        "!youtube-dl $source_url --list-formats\n",
        "format_num = input('\\nВведите номер формата (Первый столбец): ')\n",
        "clear_output()\n",
        "\n",
        "format_type = format_num + '+bestaudio'\n",
        "!youtube-dl $source_url -f $format_num\n",
        "clear_output()\n",
        "\n",
        "if save_to_drive: print('Файл скачался. Ожидайте появления его в Гугл Диске (~1 мин.)')\n",
        "else: print('Файл скачался.')"
      ],
      "execution_count": null,
      "outputs": []
    }
  ]
}