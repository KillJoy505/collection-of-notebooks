{
  "nbformat": 4,
  "nbformat_minor": 0,
  "metadata": {
    "colab": {
      "name": "Deformable Style Transfer",
      "provenance": [],
      "collapsed_sections": [],
      "include_colab_link": true
    },
    "kernelspec": {
      "name": "python3",
      "display_name": "Python 3"
    },
    "accelerator": "GPU"
  },
  "cells": [
    {
      "cell_type": "markdown",
      "metadata": {
        "id": "view-in-github",
        "colab_type": "text"
      },
      "source": [
        "<a href=\"https://colab.research.google.com/github/tg-bomze/collection-of-notebooks/blob/master/Deformable_Style_Transfer.ipynb\" target=\"_parent\"><img src=\"https://colab.research.google.com/assets/colab-badge.svg\" alt=\"Open In Colab\"/></a>"
      ]
    },
    {
      "cell_type": "markdown",
      "metadata": {
        "id": "l6Qk8m-3ukK3"
      },
      "source": [
        "# Deformable Style Transfer (ECCV 2020)\n",
        "\n",
        "![](https://sunniesuhyoung.github.io/DST-page/imgs/figure1.png)\n",
        "\n",
        "In this notebook, we demonstrate deformable style transfer (DST) using STROTSS as the base style transfer method.\n",
        "\n",
        "Project page: https://sunniesuhyoung.github.io/DST-page/  \n",
        "Paper: https://arxiv.org/abs/2003.11038  \n",
        "Code: https://github.com/sunniesuhyoung/DST  \n",
        "1min video: https://youtu.be/7qUzfcn6TPk  \n",
        "10min talk: https://youtu.be/mVU5tSxS4is"
      ]
    },
    {
      "cell_type": "code",
      "metadata": {
        "id": "GTbnW1-ppg51",
        "cellView": "form"
      },
      "source": [
        "#@title <b><font color=\"red\" size=\"+3\">←</font><font color=\"black\" size=\"+3\"> Подготовка необходимых компонентов</font></b>\n",
        "resul_image_size = \"256\" #@param [\"256\", \"512\", \"1024\"]\n",
        "!git clone https://github.com/sunniesuhyoung/DST\n",
        "import os\n",
        "os.chdir('DST')\n",
        "\n",
        "import matplotlib.pyplot as plt\n",
        "import numpy as np\n",
        "import torch\n",
        "from utils_misc import pil_loader, pil_resize_long_edge_to, pil_to_tensor\n",
        "from IPython.display import clear_output\n",
        "\n",
        "# Image will be resized to have a long side of im_side\n",
        "%env im_size = int(resul_image_size)\n",
        "\n",
        "# If you choose cuda, make sure you select GPU under [Runtime]-[Change runtime type]\n",
        "%env device = cuda"
      ],
      "execution_count": null,
      "outputs": []
    },
    {
      "cell_type": "code",
      "metadata": {
        "id": "ndT84OAFOF96",
        "cellView": "form"
      },
      "source": [
        "#@title <b><font color=\"red\" size=\"+3\">←</font><font color=\"black\" size=\"+3\"> Загрузка файлов</font></b>\n",
        "'''%env content_path = example/content.jpg\n",
        "%env style_path = example/style.jpg #'''\n",
        "\n",
        "from google.colab import files\n",
        "print('Загрузите фото, на который переносим стиль:')\n",
        "content_im = files.upload()\n",
        "print('\\nЗагрузите фото, откуда берем стиль:')\n",
        "style_im = files.upload()\n",
        "os.environ['content_path'] = list(content_im)[0]\n",
        "os.environ['style_path'] = list(style_im)[0] #'''\n",
        "\n",
        "# Load and resize input images\n",
        "content_pil = pil_resize_long_edge_to(pil_loader(os.environ['content_path']), int(os.environ['im_size']))\n",
        "width, height = content_pil.size\n",
        "style_pil = pil_resize_long_edge_to(pil_loader(os.environ['style_path']), int(os.environ['im_size']))\n",
        "content_im_orig = pil_to_tensor(content_pil).to(os.environ['device'])\n",
        "style_im_orig = pil_to_tensor(style_pil).to(os.environ['device'])\n",
        "\n",
        "clear_output()\n",
        "fig = plt.figure(figsize=(8, 6))\n",
        "plt.subplot(1, 2, 1)\n",
        "plt.imshow(content_pil); plt.axis('off'); plt.title('Content image');\n",
        "plt.subplot(1, 2, 2)\n",
        "plt.imshow(style_pil); plt.axis('off'); plt.title('Style image');"
      ],
      "execution_count": null,
      "outputs": []
    },
    {
      "cell_type": "code",
      "metadata": {
        "id": "AdxZb0C4ZLA2",
        "cellView": "form"
      },
      "source": [
        "#@title <b><font color=\"red\" size=\"+3\">←</font><font color=\"black\" size=\"+3\"> Нахождение ключевых точек</font></b>\n",
        "%env pts_path = example/NBBresults\n",
        "%env content_pts_path = example/NBBresults/correspondence_A.txt\n",
        "%env style_pts_path = example/NBBresults/correspondence_B.txt\n",
        "%env activation_path = example/NBBresults/correspondence_activation.txt\n",
        "%env output_path = example/CleanedPts\n",
        "%env NBB = 1\n",
        "%env max_num_points = 80\n",
        "%env b = 10\n",
        "%env content_marked = example/CleanedPts/A_selected_final.png\n",
        "%env style_marked = example/CleanedPts/B_selected_final.png\n",
        "\n",
        "!python NBB/main.py --results_dir ${pts_path} --imageSize ${im_size} --fast \\\n",
        "  --datarootA ${content_path} --datarootB ${style_path}\n",
        "\n",
        "!python cleanpoints.py ${content_path} ${style_path} ${content_pts_path} ${style_pts_path} \\\n",
        "  ${activation_path} ${output_path} ${im_size} ${NBB} ${max_num_points} ${b}\n",
        "\n",
        "content_marked_pil = pil_resize_long_edge_to(pil_loader(os.environ['content_marked']), int(os.environ['im_size']))\n",
        "style_marked_pil = pil_resize_long_edge_to(pil_loader(os.environ['style_marked']), int(os.environ['im_size']))\n",
        "\n",
        "clear_output()\n",
        "fig = plt.figure(figsize=(8, 6))\n",
        "plt.subplot(1, 2, 1)\n",
        "plt.imshow(content_marked_pil); plt.axis('off'); plt.title('Content image with points');\n",
        "plt.subplot(1, 2, 2)\n",
        "plt.imshow(style_marked_pil); plt.axis('off'); plt.title('Style image with points');"
      ],
      "execution_count": null,
      "outputs": []
    },
    {
      "cell_type": "code",
      "metadata": {
        "id": "GUVLk8NOV4JU",
        "cellView": "form"
      },
      "source": [
        "#@title <b><font color=\"red\" size=\"+3\">←</font><font color=\"black\" size=\"+3\"> Перенос стиля</font></b>\n",
        "%env content_pts_path = example/CleanedPts/correspondence_A.txt\n",
        "%env style_pts_path = example/CleanedPts/correspondence_B.txt\n",
        "%env output_dir = example/DSTresults\n",
        "%env output_prefix = example\n",
        "%env max_iter = 250\n",
        "%env checkpoint_iter = 50\n",
        "%env content_weight = 8\n",
        "%env warp_weight = 0.5\n",
        "%env reg_weight = 50\n",
        "%env optim = sgd\n",
        "%env lr = 0.2\n",
        "%env verbose = 0\n",
        "%env save_intermediate = 0\n",
        "%env save_extra = 0\n",
        "%env result_path = example/DSTresults/example.png\n",
        "\n",
        "!python -W ignore main.py ${content_path} ${style_path} ${content_pts_path} ${style_pts_path} \\\n",
        "  ${output_dir} ${output_prefix} ${im_size} ${max_iter} \\\n",
        "  ${checkpoint_iter} ${content_weight} ${warp_weight} ${reg_weight} ${optim} \\\n",
        "  ${lr} ${verbose} ${save_intermediate} ${save_extra} ${device}\n",
        "\n",
        "result_pil = pil_resize_long_edge_to(pil_loader(os.environ['result_path']), int(os.environ['im_size']))\n",
        "\n",
        "clear_output()\n",
        "fig = plt.figure(figsize=(12, 6))\n",
        "plt.subplot(1, 3, 1)\n",
        "plt.imshow(content_pil); plt.axis('off'); plt.title('Content image');\n",
        "plt.subplot(1, 3, 2)\n",
        "plt.imshow(style_pil); plt.axis('off'); plt.title('Style image');\n",
        "plt.subplot(1, 3, 3)\n",
        "plt.imshow(result_pil); plt.axis('off'); plt.title('DST output');"
      ],
      "execution_count": null,
      "outputs": []
    },
    {
      "cell_type": "code",
      "metadata": {
        "cellView": "form",
        "id": "LRbgoBvk0PZn"
      },
      "source": [
        "#@title <b><font color=\"red\" size=\"+3\">←</font><font color=\"black\" size=\"+3\"> Показать результат</font></b>\n",
        "result_pil"
      ],
      "execution_count": null,
      "outputs": []
    }
  ]
}